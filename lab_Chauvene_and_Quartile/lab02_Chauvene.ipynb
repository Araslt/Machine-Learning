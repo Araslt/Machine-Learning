{
  "nbformat": 4,
  "nbformat_minor": 0,
  "metadata": {
    "colab": {
      "provenance": [],
      "authorship_tag": "ABX9TyPBow2L+ciUF28Ptobv4vZo"
    },
    "kernelspec": {
      "name": "python3",
      "display_name": "Python 3"
    },
    "language_info": {
      "name": "python"
    }
  },
  "cells": [
    {
      "cell_type": "code",
      "execution_count": 1,
      "metadata": {
        "colab": {
          "base_uri": "https://localhost:8080/"
        },
        "id": "KF6JZAJntBP9",
        "outputId": "459e7303-25f3-4146-e096-d4719094c40a"
      },
      "outputs": [
        {
          "output_type": "stream",
          "name": "stdout",
          "text": [
            "Duomenų masyvas: [15, 17, 16, 16, 18, 17, 15, 30, 18, 48, 49]\n",
            "Vidurkis: 23.545454545454547\n",
            "Standartinis nuokrypis: 13.018169121375221\n",
            "Išskirtys: [48, 49]\n"
          ]
        }
      ],
      "source": [
        "import numpy as np\n",
        "from scipy import stats\n",
        "\n",
        "# Duomenų masyvas\n",
        "A = [15, 17, 16, 16, 18, 17, 15, 30, 18, 48, 49]\n",
        "\n",
        "# Apskaičiuojame vidurkį ir standartinį nuokrypį\n",
        "mean = np.mean(A)\n",
        "std_dev = np.std(A, ddof=1)\n",
        "N = len(A)\n",
        "\n",
        "# Apskaičiuojame kritinę z-reikšmę pagal Šovene kriterijų\n",
        "critical_p = 0.5 / N\n",
        "critical_z = stats.norm.ppf(1 - critical_p)\n",
        "\n",
        "# Nustatome slenkstį\n",
        "threshold = critical_z * std_dev\n",
        "\n",
        "# Ieškome išskirtų reikšmių\n",
        "outliers = [x for x in A if abs(x - mean) > threshold]\n",
        "\n",
        "print(\"Duomenų masyvas:\", A)\n",
        "print(\"Vidurkis:\", mean)\n",
        "print(\"Standartinis nuokrypis:\", std_dev)\n",
        "print(\"Išskirtys:\", outliers)\n"
      ]
    },
    {
      "cell_type": "code",
      "source": [
        "import numpy as np\n",
        "\n",
        "# Duomenų masyvas\n",
        "A = [15, 17, 16, 16, 18, 17, 15, 30, 18, 51]\n",
        "\n",
        "# Apskaičiuojame kvartilius\n",
        "Q25 = np.percentile(A, 25)\n",
        "Q75 = np.percentile(A, 75)\n",
        "\n",
        "# Apskaičiuojame interkvartilių intervalą (IQR)\n",
        "IQR = Q75 - Q25\n",
        "\n",
        "# Nustatome slenksčius anomalijoms\n",
        "lower_threshold = Q25 - 1.5 * IQR\n",
        "upper_threshold = Q75 + 1.5 * IQR\n",
        "\n",
        "# Ieškome anomalijų\n",
        "outliers = [x for x in A if x < lower_threshold or x > upper_threshold]\n",
        "\n",
        "print(\"Duomenų masyvas:\", A)\n",
        "print(\"Pirmasis kvartilis (Q25):\", Q25)\n",
        "print(\"Trečiasis kvartilis (Q75):\", Q75)\n",
        "print(\"Interkvartilių intervalas (IQR):\", IQR)\n",
        "print(\"Anomalijos:\", outliers)"
      ],
      "metadata": {
        "colab": {
          "base_uri": "https://localhost:8080/"
        },
        "id": "iGEdU-bitIwH",
        "outputId": "f3cc36ee-a6db-4bfe-ee67-0940aea57aa1"
      },
      "execution_count": 2,
      "outputs": [
        {
          "output_type": "stream",
          "name": "stdout",
          "text": [
            "Duomenų masyvas: [15, 17, 16, 16, 18, 17, 15, 30, 18, 51]\n",
            "Pirmasis kvartilis (Q25): 16.0\n",
            "Trečiasis kvartilis (Q75): 18.0\n",
            "Interkvartilių intervalas (IQR): 2.0\n",
            "Anomalijos: [30, 51]\n"
          ]
        }
      ]
    }
  ]
}